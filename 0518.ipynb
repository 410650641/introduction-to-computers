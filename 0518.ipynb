{
  "nbformat": 4,
  "nbformat_minor": 0,
  "metadata": {
    "colab": {
      "name": "0518.ipynb",
      "provenance": [],
      "authorship_tag": "ABX9TyO04EaKWfuxLOZ6Hm1aGOUZ",
      "include_colab_link": true
    },
    "kernelspec": {
      "name": "python3",
      "display_name": "Python 3"
    },
    "language_info": {
      "name": "python"
    }
  },
  "cells": [
    {
      "cell_type": "markdown",
      "metadata": {
        "id": "view-in-github",
        "colab_type": "text"
      },
      "source": [
        "<a href=\"https://colab.research.google.com/github/410650641/introduction-to-computers/blob/main/0518.ipynb\" target=\"_parent\"><img src=\"https://colab.research.google.com/assets/colab-badge.svg\" alt=\"Open In Colab\"/></a>"
      ]
    },
    {
      "cell_type": "code",
      "execution_count": null,
      "metadata": {
        "colab": {
          "base_uri": "https://localhost:8080/"
        },
        "id": "4IDprD-Xn6F0",
        "outputId": "4eb694a0-9cca-4c2e-eb11-1ed9e891f504"
      },
      "outputs": [
        {
          "output_type": "stream",
          "name": "stdout",
          "text": [
            "hi\n"
          ]
        }
      ],
      "source": [
        "print(\"hi\")"
      ]
    },
    {
      "cell_type": "code",
      "source": [
        "a=range(5)"
      ],
      "metadata": {
        "id": "TRwepSlxoG4p"
      },
      "execution_count": null,
      "outputs": []
    },
    {
      "cell_type": "code",
      "source": [
        "print(type(a))"
      ],
      "metadata": {
        "colab": {
          "base_uri": "https://localhost:8080/"
        },
        "id": "Fh96qZ93oMzh",
        "outputId": "03e885ee-0aba-4cac-be91-09d38cc097ae"
      },
      "execution_count": null,
      "outputs": [
        {
          "output_type": "stream",
          "name": "stdout",
          "text": [
            "<class 'range'>\n"
          ]
        }
      ]
    },
    {
      "cell_type": "code",
      "source": [
        "print(a)"
      ],
      "metadata": {
        "colab": {
          "base_uri": "https://localhost:8080/"
        },
        "id": "o-xtv1VhoSr2",
        "outputId": "c7dd077f-3cc4-44ed-966e-aed29ff67de4"
      },
      "execution_count": null,
      "outputs": [
        {
          "output_type": "stream",
          "name": "stdout",
          "text": [
            "range(0, 5)\n"
          ]
        }
      ]
    },
    {
      "cell_type": "code",
      "source": [
        "print(list(a))"
      ],
      "metadata": {
        "colab": {
          "base_uri": "https://localhost:8080/"
        },
        "id": "6eSrBA6MoVd8",
        "outputId": "a702ffc6-2bc3-4963-e51b-eaa932a59288"
      },
      "execution_count": null,
      "outputs": [
        {
          "output_type": "stream",
          "name": "stdout",
          "text": [
            "[0, 1, 2, 3, 4]\n"
          ]
        }
      ]
    },
    {
      "cell_type": "code",
      "source": [
        "b=range(10)"
      ],
      "metadata": {
        "id": "xntiAZUEoZVW"
      },
      "execution_count": null,
      "outputs": []
    },
    {
      "cell_type": "code",
      "source": [
        "c=range(3,8)\n",
        "print(list(c))"
      ],
      "metadata": {
        "colab": {
          "base_uri": "https://localhost:8080/"
        },
        "id": "Mynka5xsoefd",
        "outputId": "2d36c563-917c-4538-b5cc-162fa76e099d"
      },
      "execution_count": null,
      "outputs": [
        {
          "output_type": "stream",
          "name": "stdout",
          "text": [
            "[3, 4, 5, 6, 7]\n"
          ]
        }
      ]
    },
    {
      "cell_type": "code",
      "source": [
        "d=range(-2,4)\n",
        "print(list(d))"
      ],
      "metadata": {
        "colab": {
          "base_uri": "https://localhost:8080/"
        },
        "id": "a90OiA0qonRH",
        "outputId": "0c7767b5-5a0a-4611-ddfc-78bbd9bef38a"
      },
      "execution_count": null,
      "outputs": [
        {
          "output_type": "stream",
          "name": "stdout",
          "text": [
            "[-2, -1, 0, 1, 2, 3]\n"
          ]
        }
      ]
    },
    {
      "cell_type": "code",
      "source": [
        "e=range(8,3,-1)\n",
        "print(list(e))"
      ],
      "metadata": {
        "colab": {
          "base_uri": "https://localhost:8080/"
        },
        "id": "ZIGOVf7Ao3H9",
        "outputId": "78705623-988c-4759-f13f-985b0e802739"
      },
      "execution_count": null,
      "outputs": [
        {
          "output_type": "stream",
          "name": "stdout",
          "text": [
            "[8, 7, 6, 5, 4]\n"
          ]
        }
      ]
    },
    {
      "cell_type": "code",
      "source": [
        "f=range(0,9,1)\n",
        "print(list(f))"
      ],
      "metadata": {
        "colab": {
          "base_uri": "https://localhost:8080/"
        },
        "id": "pDZlNZm0pCB7",
        "outputId": "eff6e696-611e-4fc2-fba3-7a0150dc06db"
      },
      "execution_count": null,
      "outputs": [
        {
          "output_type": "stream",
          "name": "stdout",
          "text": [
            "[0, 1, 2, 3, 4, 5, 6, 7, 8]\n"
          ]
        }
      ]
    },
    {
      "cell_type": "code",
      "source": [
        "g=range(1,10,1)\n",
        "print(list(g))"
      ],
      "metadata": {
        "colab": {
          "base_uri": "https://localhost:8080/"
        },
        "id": "JPuowWEOpPwM",
        "outputId": "8e2651a2-9c47-45f0-949c-e926aea60f67"
      },
      "execution_count": null,
      "outputs": [
        {
          "output_type": "stream",
          "name": "stdout",
          "text": [
            "[1, 2, 3, 4, 5, 6, 7, 8, 9]\n"
          ]
        }
      ]
    },
    {
      "cell_type": "code",
      "source": [
        "h=range(10,1,-2)\n",
        "print(list(h))"
      ],
      "metadata": {
        "colab": {
          "base_uri": "https://localhost:8080/"
        },
        "id": "i5MfoY8epXyZ",
        "outputId": "de89be3c-c588-44a9-d091-7e8633ce981b"
      },
      "execution_count": null,
      "outputs": [
        {
          "output_type": "stream",
          "name": "stdout",
          "text": [
            "[10, 8, 6, 4, 2]\n"
          ]
        }
      ]
    },
    {
      "cell_type": "code",
      "source": [
        "for n in range(3):\n",
        "  print(n,end=',')"
      ],
      "metadata": {
        "colab": {
          "base_uri": "https://localhost:8080/"
        },
        "id": "0xFf2eBYpxks",
        "outputId": "da6f5085-9890-4f70-9ee4-3acdeb145fb3"
      },
      "execution_count": null,
      "outputs": [
        {
          "output_type": "stream",
          "name": "stdout",
          "text": [
            "0,1,2,"
          ]
        }
      ]
    },
    {
      "cell_type": "code",
      "source": [
        "for n in range(10):\n",
        "  print(n,end=\",\")"
      ],
      "metadata": {
        "colab": {
          "base_uri": "https://localhost:8080/"
        },
        "id": "RRoiBhmnp8Ah",
        "outputId": "0b081b00-0273-4d6b-9eec-e300b367d670"
      },
      "execution_count": null,
      "outputs": [
        {
          "output_type": "stream",
          "name": "stdout",
          "text": [
            "0,1,2,3,4,5,6,7,8,9,"
          ]
        }
      ]
    },
    {
      "cell_type": "code",
      "source": [
        "test=int(input('請輸入一個正整數：'))\n",
        "for m in range(1,test+1):\n",
        "    print(m,end=\" \")"
      ],
      "metadata": {
        "colab": {
          "base_uri": "https://localhost:8080/"
        },
        "id": "67IryGv_qUoY",
        "outputId": "94b281ba-c629-4dfd-920d-b9ef421b7bac"
      },
      "execution_count": null,
      "outputs": [
        {
          "output_type": "stream",
          "name": "stdout",
          "text": [
            "請輸入一個正整數：10\n",
            "1 2 3 4 5 6 7 8 9 10 "
          ]
        }
      ]
    },
    {
      "cell_type": "code",
      "source": [
        "test=int(input('請輸入一個正整數：'))\n",
        "for m in range(1,test+1,2):\n",
        "    print(m,end=\" \")\n",
        "  \n",
        "  "
      ],
      "metadata": {
        "colab": {
          "base_uri": "https://localhost:8080/"
        },
        "id": "xujMDidmq3Rs",
        "outputId": "1bf56489-9757-4e6a-9575-40e1862a7a45"
      },
      "execution_count": null,
      "outputs": [
        {
          "output_type": "stream",
          "name": "stdout",
          "text": [
            "請輸入一個正整數：10\n",
            "1 3 5 7 9 "
          ]
        }
      ]
    },
    {
      "cell_type": "code",
      "source": [
        "test=int(input('請輸入一個正整數：'))\n",
        "for m in range(1,test+1):\n",
        "    print(m,end=\" \",)"
      ],
      "metadata": {
        "colab": {
          "base_uri": "https://localhost:8080/"
        },
        "id": "kUaFazVJrJCG",
        "outputId": "35d83f26-2c83-408e-8262-4d4d2c2b54f5"
      },
      "execution_count": null,
      "outputs": [
        {
          "output_type": "stream",
          "name": "stdout",
          "text": [
            "請輸入一個正整數：5\n",
            "1 2 3 4 5 "
          ]
        }
      ]
    },
    {
      "cell_type": "code",
      "source": [
        "test=int(input('請輸入一個正整數：'))\n",
        "for m in range(1,test+1):\n",
        "    print(m,end=\" \")"
      ],
      "metadata": {
        "colab": {
          "base_uri": "https://localhost:8080/"
        },
        "id": "zijYUFGlraQn",
        "outputId": "8700b4a1-f1eb-4b9c-bf93-1754a8509333"
      },
      "execution_count": null,
      "outputs": [
        {
          "output_type": "stream",
          "name": "stdout",
          "text": [
            "請輸入一個正整數：12\n",
            "1 2 3 4 5 6 7 8 9 10 11 12 "
          ]
        }
      ]
    },
    {
      "cell_type": "code",
      "source": [
        "sum=0\n",
        "for n in range(3):\n",
        "  sum=sum + n\n",
        "print(sum)"
      ],
      "metadata": {
        "colab": {
          "base_uri": "https://localhost:8080/"
        },
        "id": "UzTNaP0FrlP6",
        "outputId": "a18240c3-6d50-4334-90c7-9303bd079eb0"
      },
      "execution_count": null,
      "outputs": [
        {
          "output_type": "stream",
          "name": "stdout",
          "text": [
            "3\n"
          ]
        }
      ]
    },
    {
      "cell_type": "code",
      "source": [
        "sum=0\n",
        "for n in range(5):\n",
        "  sum=sum + n\n",
        "print(sum)"
      ],
      "metadata": {
        "colab": {
          "base_uri": "https://localhost:8080/"
        },
        "id": "eODzvyEur2ED",
        "outputId": "8d6b2988-b889-419c-b99a-4fa10412a2ec"
      },
      "execution_count": null,
      "outputs": [
        {
          "output_type": "stream",
          "name": "stdout",
          "text": [
            "10\n"
          ]
        }
      ]
    },
    {
      "cell_type": "code",
      "source": [
        "v=int(input('請輸入一個正整數：'))\n",
        "sum=0\n",
        "for n in range(v+1):\n",
        "   sum=sum+n\n",
        "print(\"1到\",n,'的整數和為',sum)"
      ],
      "metadata": {
        "colab": {
          "base_uri": "https://localhost:8080/"
        },
        "id": "1fmfz-05r8d9",
        "outputId": "5b9e03a8-6872-4455-ce53-c883a0c14639"
      },
      "execution_count": null,
      "outputs": [
        {
          "output_type": "stream",
          "name": "stdout",
          "text": [
            "請輸入一個正整數：10\n",
            "1到 10 的整數和為 55\n"
          ]
        }
      ]
    },
    {
      "cell_type": "code",
      "source": [
        "v=int(input('請輸入一個正整數：'))\n",
        "sum=0\n",
        "for n in range(v+1):\n",
        "   sum=sum+n\n",
        "print(\"1到\",v,'的整數和為',sum)"
      ],
      "metadata": {
        "colab": {
          "base_uri": "https://localhost:8080/"
        },
        "id": "kZLhhVP-s273",
        "outputId": "af635bf3-0b36-468c-c832-a886bc114fee"
      },
      "execution_count": null,
      "outputs": [
        {
          "output_type": "stream",
          "name": "stdout",
          "text": [
            "請輸入一個正整數：50\n",
            "1到 50 的整數和為 1275\n"
          ]
        }
      ]
    },
    {
      "cell_type": "code",
      "source": [
        "j=int(input('請輸入一個正整數：'))\n",
        "sum=0\n",
        "for n in range(1,j+1):\n",
        "   sum=sum+n\n",
        "   print(\"1到\"+str(n)+'的整數和為',sum)"
      ],
      "metadata": {
        "colab": {
          "base_uri": "https://localhost:8080/"
        },
        "id": "q20DuX8ptOsX",
        "outputId": "2d6f87af-7ebe-468f-d37c-8e3e7787140b"
      },
      "execution_count": 4,
      "outputs": [
        {
          "output_type": "stream",
          "name": "stdout",
          "text": [
            "請輸入一個正整數：50\n",
            "1到1的整數和為 1\n",
            "1到2的整數和為 3\n",
            "1到3的整數和為 6\n",
            "1到4的整數和為 10\n",
            "1到5的整數和為 15\n",
            "1到6的整數和為 21\n",
            "1到7的整數和為 28\n",
            "1到8的整數和為 36\n",
            "1到9的整數和為 45\n",
            "1到10的整數和為 55\n",
            "1到11的整數和為 66\n",
            "1到12的整數和為 78\n",
            "1到13的整數和為 91\n",
            "1到14的整數和為 105\n",
            "1到15的整數和為 120\n",
            "1到16的整數和為 136\n",
            "1到17的整數和為 153\n",
            "1到18的整數和為 171\n",
            "1到19的整數和為 190\n",
            "1到20的整數和為 210\n",
            "1到21的整數和為 231\n",
            "1到22的整數和為 253\n",
            "1到23的整數和為 276\n",
            "1到24的整數和為 300\n",
            "1到25的整數和為 325\n",
            "1到26的整數和為 351\n",
            "1到27的整數和為 378\n",
            "1到28的整數和為 406\n",
            "1到29的整數和為 435\n",
            "1到30的整數和為 465\n",
            "1到31的整數和為 496\n",
            "1到32的整數和為 528\n",
            "1到33的整數和為 561\n",
            "1到34的整數和為 595\n",
            "1到35的整數和為 630\n",
            "1到36的整數和為 666\n",
            "1到37的整數和為 703\n",
            "1到38的整數和為 741\n",
            "1到39的整數和為 780\n",
            "1到40的整數和為 820\n",
            "1到41的整數和為 861\n",
            "1到42的整數和為 903\n",
            "1到43的整數和為 946\n",
            "1到44的整數和為 990\n",
            "1到45的整數和為 1035\n",
            "1到46的整數和為 1081\n",
            "1到47的整數和為 1128\n",
            "1到48的整數和為 1176\n",
            "1到49的整數和為 1225\n",
            "1到50的整數和為 1275\n"
          ]
        }
      ]
    },
    {
      "cell_type": "code",
      "source": [
        ""
      ],
      "metadata": {
        "id": "dW4VmN1qt45r"
      },
      "execution_count": null,
      "outputs": []
    }
  ]
}