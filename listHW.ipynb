{
  "nbformat": 4,
  "nbformat_minor": 0,
  "metadata": {
    "colab": {
      "provenance": [],
      "authorship_tag": "ABX9TyPNBT4KXnw7LSFghbpWkhIj",
      "include_colab_link": true
    },
    "kernelspec": {
      "name": "python3",
      "display_name": "Python 3"
    },
    "language_info": {
      "name": "python"
    }
  },
  "cells": [
    {
      "cell_type": "markdown",
      "metadata": {
        "id": "view-in-github",
        "colab_type": "text"
      },
      "source": [
        "<a href=\"https://colab.research.google.com/github/410650641/introduction-to-computers/blob/main/listHW.ipynb\" target=\"_parent\"><img src=\"https://colab.research.google.com/assets/colab-badge.svg\" alt=\"Open In Colab\"/></a>"
      ]
    },
    {
      "cell_type": "code",
      "execution_count": 6,
      "metadata": {
        "colab": {
          "base_uri": "https://localhost:8080/"
        },
        "id": "kms64H1mg6wS",
        "outputId": "1f567ecd-3bcf-4ceb-9aba-f7bf151a3b0e"
      },
      "outputs": [
        {
          "output_type": "stream",
          "name": "stdout",
          "text": [
            "b\n",
            "['b', 'a']\n",
            "['a', 'd']\n",
            "d\n"
          ]
        }
      ],
      "source": [
        "title=['b','a','d']\n",
        "print(title[0])\n",
        "print(title[0:2]) #不包含2\n",
        "print(title[1:])\n",
        "title2=list('bad')\n",
        "print(title2[-1])"
      ]
    },
    {
      "cell_type": "code",
      "source": [
        "a=[1,2,3,4,5,6,7,8,9]\n",
        "b=list(range(10))\n",
        "print(b[::2])\n",
        "for c in a:\n",
        "  print(c)"
      ],
      "metadata": {
        "colab": {
          "base_uri": "https://localhost:8080/"
        },
        "id": "ISVrL_lDikCk",
        "outputId": "15fcfc08-77cd-45df-9da6-c2f57f3315cc"
      },
      "execution_count": 22,
      "outputs": [
        {
          "output_type": "stream",
          "name": "stdout",
          "text": [
            "[0, 2, 4, 6, 8]\n",
            "1\n",
            "2\n",
            "3\n",
            "4\n",
            "5\n",
            "6\n",
            "7\n",
            "8\n",
            "9\n"
          ]
        }
      ]
    },
    {
      "cell_type": "markdown",
      "source": [
        "作業在這裡喔！"
      ],
      "metadata": {
        "id": "Ah7Kpvy4rI2B"
      }
    },
    {
      "cell_type": "code",
      "source": [
        "a=[1,2,3,4,5,6,7,8,9]\n",
        "for b in a:\n",
        "    if b % 2 == 0:\n",
        "        print(b)\n",
        "    else:\n",
        "      pass"
      ],
      "metadata": {
        "colab": {
          "base_uri": "https://localhost:8080/"
        },
        "id": "9AJV7LD7qA-A",
        "outputId": "6c9a4267-b795-40fb-bccc-3f84ebb967ca"
      },
      "execution_count": 23,
      "outputs": [
        {
          "output_type": "stream",
          "name": "stdout",
          "text": [
            "2\n",
            "4\n",
            "6\n",
            "8\n"
          ]
        }
      ]
    }
  ]
}